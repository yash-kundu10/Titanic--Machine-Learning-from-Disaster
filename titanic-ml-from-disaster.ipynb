{
 "cells": [
  {
   "cell_type": "markdown",
   "metadata": {
    "papermill": {
     "duration": 0.036264,
     "end_time": "2021-06-11T17:39:48.254434",
     "exception": false,
     "start_time": "2021-06-11T17:39:48.218170",
     "status": "completed"
    },
    "tags": []
   },
   "source": [
    "# Titanic - Machine Learning from Disaster"
   ]
  },
  {
   "cell_type": "code",
   "execution_count": 1,
   "metadata": {
    "execution": {
     "iopub.execute_input": "2021-06-11T17:39:48.330986Z",
     "iopub.status.busy": "2021-06-11T17:39:48.329848Z",
     "iopub.status.idle": "2021-06-11T17:39:48.341622Z",
     "shell.execute_reply": "2021-06-11T17:39:48.342171Z",
     "shell.execute_reply.started": "2021-06-11T16:59:49.046187Z"
    },
    "papermill": {
     "duration": 0.052195,
     "end_time": "2021-06-11T17:39:48.342475",
     "exception": false,
     "start_time": "2021-06-11T17:39:48.290280",
     "status": "completed"
    },
    "tags": []
   },
   "outputs": [],
   "source": [
    "import numpy as np # linear algebra\n",
    "import pandas as pd # data processing, CSV file I/O (e.g. pd.read_csv)"
   ]
  },
  {
   "cell_type": "code",
   "execution_count": 2,
   "metadata": {
    "execution": {
     "iopub.execute_input": "2021-06-11T17:39:48.421644Z",
     "iopub.status.busy": "2021-06-11T17:39:48.420901Z",
     "iopub.status.idle": "2021-06-11T17:39:49.232638Z",
     "shell.execute_reply": "2021-06-11T17:39:49.233171Z",
     "shell.execute_reply.started": "2021-06-11T16:59:54.837727Z"
    },
    "papermill": {
     "duration": 0.853835,
     "end_time": "2021-06-11T17:39:49.233365",
     "exception": false,
     "start_time": "2021-06-11T17:39:48.379530",
     "status": "completed"
    },
    "tags": []
   },
   "outputs": [],
   "source": [
    "# importing libraries\n",
    "import matplotlib.pyplot as plt\n",
    "import seaborn as sns"
   ]
  },
  {
   "cell_type": "code",
   "execution_count": 3,
   "metadata": {
    "execution": {
     "iopub.execute_input": "2021-06-11T17:39:49.307771Z",
     "iopub.status.busy": "2021-06-11T17:39:49.306753Z",
     "iopub.status.idle": "2021-06-11T17:39:49.364513Z",
     "shell.execute_reply": "2021-06-11T17:39:49.365120Z",
     "shell.execute_reply.started": "2021-06-11T17:00:06.426675Z"
    },
    "papermill": {
     "duration": 0.096623,
     "end_time": "2021-06-11T17:39:49.365328",
     "exception": false,
     "start_time": "2021-06-11T17:39:49.268705",
     "status": "completed"
    },
    "tags": []
   },
   "outputs": [],
   "source": [
    "# Load the datasets:-\n",
    "train = pd.read_csv('train.csv')\n",
    "test = pd.read_csv('test.csv')\n",
    "g_sub = pd.read_csv('gender_submission.csv')"
   ]
  },
  {
   "cell_type": "code",
   "execution_count": 4,
   "metadata": {
    "execution": {
     "iopub.execute_input": "2021-06-11T17:39:49.447341Z",
     "iopub.status.busy": "2021-06-11T17:39:49.446349Z",
     "iopub.status.idle": "2021-06-11T17:39:49.466575Z",
     "shell.execute_reply": "2021-06-11T17:39:49.467137Z",
     "shell.execute_reply.started": "2021-06-11T17:00:50.116600Z"
    },
    "papermill": {
     "duration": 0.066231,
     "end_time": "2021-06-11T17:39:49.467321",
     "exception": false,
     "start_time": "2021-06-11T17:39:49.401090",
     "status": "completed"
    },
    "tags": []
   },
   "outputs": [
    {
     "data": {
      "text/html": [
       "<div>\n",
       "<style scoped>\n",
       "    .dataframe tbody tr th:only-of-type {\n",
       "        vertical-align: middle;\n",
       "    }\n",
       "\n",
       "    .dataframe tbody tr th {\n",
       "        vertical-align: top;\n",
       "    }\n",
       "\n",
       "    .dataframe thead th {\n",
       "        text-align: right;\n",
       "    }\n",
       "</style>\n",
       "<table border=\"1\" class=\"dataframe\">\n",
       "  <thead>\n",
       "    <tr style=\"text-align: right;\">\n",
       "      <th></th>\n",
       "      <th>PassengerId</th>\n",
       "      <th>Survived</th>\n",
       "    </tr>\n",
       "  </thead>\n",
       "  <tbody>\n",
       "    <tr>\n",
       "      <th>0</th>\n",
       "      <td>892</td>\n",
       "      <td>0</td>\n",
       "    </tr>\n",
       "    <tr>\n",
       "      <th>1</th>\n",
       "      <td>893</td>\n",
       "      <td>1</td>\n",
       "    </tr>\n",
       "    <tr>\n",
       "      <th>2</th>\n",
       "      <td>894</td>\n",
       "      <td>0</td>\n",
       "    </tr>\n",
       "    <tr>\n",
       "      <th>3</th>\n",
       "      <td>895</td>\n",
       "      <td>0</td>\n",
       "    </tr>\n",
       "    <tr>\n",
       "      <th>4</th>\n",
       "      <td>896</td>\n",
       "      <td>1</td>\n",
       "    </tr>\n",
       "    <tr>\n",
       "      <th>...</th>\n",
       "      <td>...</td>\n",
       "      <td>...</td>\n",
       "    </tr>\n",
       "    <tr>\n",
       "      <th>413</th>\n",
       "      <td>1305</td>\n",
       "      <td>0</td>\n",
       "    </tr>\n",
       "    <tr>\n",
       "      <th>414</th>\n",
       "      <td>1306</td>\n",
       "      <td>1</td>\n",
       "    </tr>\n",
       "    <tr>\n",
       "      <th>415</th>\n",
       "      <td>1307</td>\n",
       "      <td>0</td>\n",
       "    </tr>\n",
       "    <tr>\n",
       "      <th>416</th>\n",
       "      <td>1308</td>\n",
       "      <td>0</td>\n",
       "    </tr>\n",
       "    <tr>\n",
       "      <th>417</th>\n",
       "      <td>1309</td>\n",
       "      <td>0</td>\n",
       "    </tr>\n",
       "  </tbody>\n",
       "</table>\n",
       "<p>418 rows × 2 columns</p>\n",
       "</div>"
      ],
      "text/plain": [
       "     PassengerId  Survived\n",
       "0            892         0\n",
       "1            893         1\n",
       "2            894         0\n",
       "3            895         0\n",
       "4            896         1\n",
       "..           ...       ...\n",
       "413         1305         0\n",
       "414         1306         1\n",
       "415         1307         0\n",
       "416         1308         0\n",
       "417         1309         0\n",
       "\n",
       "[418 rows x 2 columns]"
      ]
     },
     "execution_count": 4,
     "metadata": {},
     "output_type": "execute_result"
    }
   ],
   "source": [
    "g_sub"
   ]
  },
  {
   "cell_type": "markdown",
   "metadata": {
    "papermill": {
     "duration": 0.035918,
     "end_time": "2021-06-11T17:39:49.539253",
     "exception": false,
     "start_time": "2021-06-11T17:39:49.503335",
     "status": "completed"
    },
    "tags": []
   },
   "source": [
    "***Analysis on Train Dataset:-***"
   ]
  },
  {
   "cell_type": "code",
   "execution_count": 5,
   "metadata": {
    "execution": {
     "iopub.execute_input": "2021-06-11T17:39:49.614759Z",
     "iopub.status.busy": "2021-06-11T17:39:49.613770Z",
     "iopub.status.idle": "2021-06-11T17:39:49.630592Z",
     "shell.execute_reply": "2021-06-11T17:39:49.631154Z",
     "shell.execute_reply.started": "2021-06-11T17:04:40.245208Z"
    },
    "papermill": {
     "duration": 0.05607,
     "end_time": "2021-06-11T17:39:49.631338",
     "exception": false,
     "start_time": "2021-06-11T17:39:49.575268",
     "status": "completed"
    },
    "tags": []
   },
   "outputs": [
    {
     "data": {
      "text/html": [
       "<div>\n",
       "<style scoped>\n",
       "    .dataframe tbody tr th:only-of-type {\n",
       "        vertical-align: middle;\n",
       "    }\n",
       "\n",
       "    .dataframe tbody tr th {\n",
       "        vertical-align: top;\n",
       "    }\n",
       "\n",
       "    .dataframe thead th {\n",
       "        text-align: right;\n",
       "    }\n",
       "</style>\n",
       "<table border=\"1\" class=\"dataframe\">\n",
       "  <thead>\n",
       "    <tr style=\"text-align: right;\">\n",
       "      <th></th>\n",
       "      <th>PassengerId</th>\n",
       "      <th>Survived</th>\n",
       "      <th>Pclass</th>\n",
       "      <th>Name</th>\n",
       "      <th>Sex</th>\n",
       "      <th>Age</th>\n",
       "      <th>SibSp</th>\n",
       "      <th>Parch</th>\n",
       "      <th>Ticket</th>\n",
       "      <th>Fare</th>\n",
       "      <th>Cabin</th>\n",
       "      <th>Embarked</th>\n",
       "    </tr>\n",
       "  </thead>\n",
       "  <tbody>\n",
       "    <tr>\n",
       "      <th>0</th>\n",
       "      <td>1</td>\n",
       "      <td>0</td>\n",
       "      <td>3</td>\n",
       "      <td>Braund, Mr. Owen Harris</td>\n",
       "      <td>male</td>\n",
       "      <td>22.0</td>\n",
       "      <td>1</td>\n",
       "      <td>0</td>\n",
       "      <td>A/5 21171</td>\n",
       "      <td>7.2500</td>\n",
       "      <td>NaN</td>\n",
       "      <td>S</td>\n",
       "    </tr>\n",
       "    <tr>\n",
       "      <th>1</th>\n",
       "      <td>2</td>\n",
       "      <td>1</td>\n",
       "      <td>1</td>\n",
       "      <td>Cumings, Mrs. John Bradley (Florence Briggs Th...</td>\n",
       "      <td>female</td>\n",
       "      <td>38.0</td>\n",
       "      <td>1</td>\n",
       "      <td>0</td>\n",
       "      <td>PC 17599</td>\n",
       "      <td>71.2833</td>\n",
       "      <td>C85</td>\n",
       "      <td>C</td>\n",
       "    </tr>\n",
       "    <tr>\n",
       "      <th>2</th>\n",
       "      <td>3</td>\n",
       "      <td>1</td>\n",
       "      <td>3</td>\n",
       "      <td>Heikkinen, Miss. Laina</td>\n",
       "      <td>female</td>\n",
       "      <td>26.0</td>\n",
       "      <td>0</td>\n",
       "      <td>0</td>\n",
       "      <td>STON/O2. 3101282</td>\n",
       "      <td>7.9250</td>\n",
       "      <td>NaN</td>\n",
       "      <td>S</td>\n",
       "    </tr>\n",
       "    <tr>\n",
       "      <th>3</th>\n",
       "      <td>4</td>\n",
       "      <td>1</td>\n",
       "      <td>1</td>\n",
       "      <td>Futrelle, Mrs. Jacques Heath (Lily May Peel)</td>\n",
       "      <td>female</td>\n",
       "      <td>35.0</td>\n",
       "      <td>1</td>\n",
       "      <td>0</td>\n",
       "      <td>113803</td>\n",
       "      <td>53.1000</td>\n",
       "      <td>C123</td>\n",
       "      <td>S</td>\n",
       "    </tr>\n",
       "    <tr>\n",
       "      <th>4</th>\n",
       "      <td>5</td>\n",
       "      <td>0</td>\n",
       "      <td>3</td>\n",
       "      <td>Allen, Mr. William Henry</td>\n",
       "      <td>male</td>\n",
       "      <td>35.0</td>\n",
       "      <td>0</td>\n",
       "      <td>0</td>\n",
       "      <td>373450</td>\n",
       "      <td>8.0500</td>\n",
       "      <td>NaN</td>\n",
       "      <td>S</td>\n",
       "    </tr>\n",
       "  </tbody>\n",
       "</table>\n",
       "</div>"
      ],
      "text/plain": [
       "   PassengerId  Survived  Pclass  \\\n",
       "0            1         0       3   \n",
       "1            2         1       1   \n",
       "2            3         1       3   \n",
       "3            4         1       1   \n",
       "4            5         0       3   \n",
       "\n",
       "                                                Name     Sex   Age  SibSp  \\\n",
       "0                            Braund, Mr. Owen Harris    male  22.0      1   \n",
       "1  Cumings, Mrs. John Bradley (Florence Briggs Th...  female  38.0      1   \n",
       "2                             Heikkinen, Miss. Laina  female  26.0      0   \n",
       "3       Futrelle, Mrs. Jacques Heath (Lily May Peel)  female  35.0      1   \n",
       "4                           Allen, Mr. William Henry    male  35.0      0   \n",
       "\n",
       "   Parch            Ticket     Fare Cabin Embarked  \n",
       "0      0         A/5 21171   7.2500   NaN        S  \n",
       "1      0          PC 17599  71.2833   C85        C  \n",
       "2      0  STON/O2. 3101282   7.9250   NaN        S  \n",
       "3      0            113803  53.1000  C123        S  \n",
       "4      0            373450   8.0500   NaN        S  "
      ]
     },
     "execution_count": 5,
     "metadata": {},
     "output_type": "execute_result"
    }
   ],
   "source": [
    "# View raw data:-\n",
    "train.head()"
   ]
  },
  {
   "cell_type": "code",
   "execution_count": 6,
   "metadata": {
    "execution": {
     "iopub.execute_input": "2021-06-11T17:39:49.707544Z",
     "iopub.status.busy": "2021-06-11T17:39:49.706597Z",
     "iopub.status.idle": "2021-06-11T17:39:49.711521Z",
     "shell.execute_reply": "2021-06-11T17:39:49.712008Z",
     "shell.execute_reply.started": "2021-06-11T17:02:50.505927Z"
    },
    "papermill": {
     "duration": 0.044696,
     "end_time": "2021-06-11T17:39:49.712183",
     "exception": false,
     "start_time": "2021-06-11T17:39:49.667487",
     "status": "completed"
    },
    "tags": []
   },
   "outputs": [
    {
     "data": {
      "text/plain": [
       "(891, 12)"
      ]
     },
     "execution_count": 6,
     "metadata": {},
     "output_type": "execute_result"
    }
   ],
   "source": [
    "# Dimensions of the dataset:-\n",
    "train.shape"
   ]
  },
  {
   "cell_type": "markdown",
   "metadata": {
    "papermill": {
     "duration": 0.046007,
     "end_time": "2021-06-11T17:39:49.799949",
     "exception": false,
     "start_time": "2021-06-11T17:39:49.753942",
     "status": "completed"
    },
    "tags": []
   },
   "source": [
    "No. of Rows in Dataset is 891 and No. of Columns in Dataset is 12."
   ]
  },
  {
   "cell_type": "code",
   "execution_count": 7,
   "metadata": {
    "_kg_hide-output": false,
    "execution": {
     "iopub.execute_input": "2021-06-11T17:39:49.883168Z",
     "iopub.status.busy": "2021-06-11T17:39:49.882245Z",
     "iopub.status.idle": "2021-06-11T17:39:49.901963Z",
     "shell.execute_reply": "2021-06-11T17:39:49.902395Z",
     "shell.execute_reply.started": "2021-06-11T17:05:55.263974Z"
    },
    "papermill": {
     "duration": 0.059767,
     "end_time": "2021-06-11T17:39:49.902560",
     "exception": false,
     "start_time": "2021-06-11T17:39:49.842793",
     "status": "completed"
    },
    "tags": []
   },
   "outputs": [
    {
     "name": "stdout",
     "output_type": "stream",
     "text": [
      "<class 'pandas.core.frame.DataFrame'>\n",
      "RangeIndex: 891 entries, 0 to 890\n",
      "Data columns (total 12 columns):\n",
      " #   Column       Non-Null Count  Dtype  \n",
      "---  ------       --------------  -----  \n",
      " 0   PassengerId  891 non-null    int64  \n",
      " 1   Survived     891 non-null    int64  \n",
      " 2   Pclass       891 non-null    int64  \n",
      " 3   Name         891 non-null    object \n",
      " 4   Sex          891 non-null    object \n",
      " 5   Age          714 non-null    float64\n",
      " 6   SibSp        891 non-null    int64  \n",
      " 7   Parch        891 non-null    int64  \n",
      " 8   Ticket       891 non-null    object \n",
      " 9   Fare         891 non-null    float64\n",
      " 10  Cabin        204 non-null    object \n",
      " 11  Embarked     889 non-null    object \n",
      "dtypes: float64(2), int64(5), object(5)\n",
      "memory usage: 83.7+ KB\n"
     ]
    }
   ],
   "source": [
    "# Information of the dataset:-\n",
    "train.info()"
   ]
  },
  {
   "cell_type": "code",
   "execution_count": 8,
   "metadata": {
    "_kg_hide-input": false,
    "_kg_hide-output": false,
    "execution": {
     "iopub.execute_input": "2021-06-11T17:39:49.979959Z",
     "iopub.status.busy": "2021-06-11T17:39:49.978986Z",
     "iopub.status.idle": "2021-06-11T17:39:50.429285Z",
     "shell.execute_reply": "2021-06-11T17:39:50.428567Z",
     "shell.execute_reply.started": "2021-06-11T17:07:51.419192Z"
    },
    "papermill": {
     "duration": 0.48989,
     "end_time": "2021-06-11T17:39:50.429433",
     "exception": false,
     "start_time": "2021-06-11T17:39:49.939543",
     "status": "completed"
    },
    "tags": []
   },
   "outputs": [
    {
     "data": {
      "text/plain": [
       "<AxesSubplot:>"
      ]
     },
     "execution_count": 8,
     "metadata": {},
     "output_type": "execute_result"
    },
    {
     "data": {
      "image/png": "[encoded data removed]",
      "text/plain": [
       "<Figure size 432x288 with 2 Axes>"
      ]
     },
     "metadata": {
      "needs_background": "light"
     },
     "output_type": "display_data"
    }
   ],
   "source": [
    "# Checking Null values using heatmap:-\n",
    "sns.heatmap(train.isnull())"
   ]
  },
  {
   "cell_type": "code",
   "execution_count": 9,
   "metadata": {
    "execution": {
     "iopub.execute_input": "2021-06-11T17:39:50.515619Z",
     "iopub.status.busy": "2021-06-11T17:39:50.514530Z",
     "iopub.status.idle": "2021-06-11T17:39:50.519350Z",
     "shell.execute_reply": "2021-06-11T17:39:50.518632Z",
     "shell.execute_reply.started": "2021-06-11T17:09:23.594546Z"
    },
    "papermill": {
     "duration": 0.051303,
     "end_time": "2021-06-11T17:39:50.519520",
     "exception": false,
     "start_time": "2021-06-11T17:39:50.468217",
     "status": "completed"
    },
    "tags": []
   },
   "outputs": [
    {
     "data": {
      "text/plain": [
       "PassengerId      0\n",
       "Survived         0\n",
       "Pclass           0\n",
       "Name             0\n",
       "Sex              0\n",
       "Age            177\n",
       "SibSp            0\n",
       "Parch            0\n",
       "Ticket           0\n",
       "Fare             0\n",
       "Cabin          687\n",
       "Embarked         2\n",
       "dtype: int64"
      ]
     },
     "execution_count": 9,
     "metadata": {},
     "output_type": "execute_result"
    }
   ],
   "source": [
    "# No. of null values in the dataset:-\n",
    "train.isnull().sum()"
   ]
  },
  {
   "cell_type": "code",
   "execution_count": 10,
   "metadata": {
    "execution": {
     "iopub.execute_input": "2021-06-11T17:39:50.605169Z",
     "iopub.status.busy": "2021-06-11T17:39:50.604511Z",
     "iopub.status.idle": "2021-06-11T17:39:50.623941Z",
     "shell.execute_reply": "2021-06-11T17:39:50.623346Z",
     "shell.execute_reply.started": "2021-06-11T17:09:51.482574Z"
    },
    "papermill": {
     "duration": 0.065511,
     "end_time": "2021-06-11T17:39:50.624082",
     "exception": false,
     "start_time": "2021-06-11T17:39:50.558571",
     "status": "completed"
    },
    "tags": []
   },
   "outputs": [],
   "source": [
    "# Drop null values :-\n",
    "train.dropna(inplace = True)"
   ]
  },
  {
   "cell_type": "code",
   "execution_count": 11,
   "metadata": {
    "execution": {
     "iopub.execute_input": "2021-06-11T17:39:50.706082Z",
     "iopub.status.busy": "2021-06-11T17:39:50.705443Z",
     "iopub.status.idle": "2021-06-11T17:39:50.737063Z",
     "shell.execute_reply": "2021-06-11T17:39:50.737535Z",
     "shell.execute_reply.started": "2021-06-11T17:10:51.113780Z"
    },
    "papermill": {
     "duration": 0.074426,
     "end_time": "2021-06-11T17:39:50.737739",
     "exception": false,
     "start_time": "2021-06-11T17:39:50.663313",
     "status": "completed"
    },
    "tags": []
   },
   "outputs": [
    {
     "data": {
      "text/html": [
       "<div>\n",
       "<style scoped>\n",
       "    .dataframe tbody tr th:only-of-type {\n",
       "        vertical-align: middle;\n",
       "    }\n",
       "\n",
       "    .dataframe tbody tr th {\n",
       "        vertical-align: top;\n",
       "    }\n",
       "\n",
       "    .dataframe thead th {\n",
       "        text-align: right;\n",
       "    }\n",
       "</style>\n",
       "<table border=\"1\" class=\"dataframe\">\n",
       "  <thead>\n",
       "    <tr style=\"text-align: right;\">\n",
       "      <th></th>\n",
       "      <th>PassengerId</th>\n",
       "      <th>Survived</th>\n",
       "      <th>Pclass</th>\n",
       "      <th>Age</th>\n",
       "      <th>SibSp</th>\n",
       "      <th>Parch</th>\n",
       "      <th>Fare</th>\n",
       "    </tr>\n",
       "  </thead>\n",
       "  <tbody>\n",
       "    <tr>\n",
       "      <th>count</th>\n",
       "      <td>183.000000</td>\n",
       "      <td>183.000000</td>\n",
       "      <td>183.000000</td>\n",
       "      <td>183.000000</td>\n",
       "      <td>183.000000</td>\n",
       "      <td>183.000000</td>\n",
       "      <td>183.000000</td>\n",
       "    </tr>\n",
       "    <tr>\n",
       "      <th>mean</th>\n",
       "      <td>455.366120</td>\n",
       "      <td>0.672131</td>\n",
       "      <td>1.191257</td>\n",
       "      <td>35.674426</td>\n",
       "      <td>0.464481</td>\n",
       "      <td>0.475410</td>\n",
       "      <td>78.682469</td>\n",
       "    </tr>\n",
       "    <tr>\n",
       "      <th>std</th>\n",
       "      <td>247.052476</td>\n",
       "      <td>0.470725</td>\n",
       "      <td>0.515187</td>\n",
       "      <td>15.643866</td>\n",
       "      <td>0.644159</td>\n",
       "      <td>0.754617</td>\n",
       "      <td>76.347843</td>\n",
       "    </tr>\n",
       "    <tr>\n",
       "      <th>min</th>\n",
       "      <td>2.000000</td>\n",
       "      <td>0.000000</td>\n",
       "      <td>1.000000</td>\n",
       "      <td>0.920000</td>\n",
       "      <td>0.000000</td>\n",
       "      <td>0.000000</td>\n",
       "      <td>0.000000</td>\n",
       "    </tr>\n",
       "    <tr>\n",
       "      <th>25%</th>\n",
       "      <td>263.500000</td>\n",
       "      <td>0.000000</td>\n",
       "      <td>1.000000</td>\n",
       "      <td>24.000000</td>\n",
       "      <td>0.000000</td>\n",
       "      <td>0.000000</td>\n",
       "      <td>29.700000</td>\n",
       "    </tr>\n",
       "    <tr>\n",
       "      <th>50%</th>\n",
       "      <td>457.000000</td>\n",
       "      <td>1.000000</td>\n",
       "      <td>1.000000</td>\n",
       "      <td>36.000000</td>\n",
       "      <td>0.000000</td>\n",
       "      <td>0.000000</td>\n",
       "      <td>57.000000</td>\n",
       "    </tr>\n",
       "    <tr>\n",
       "      <th>75%</th>\n",
       "      <td>676.000000</td>\n",
       "      <td>1.000000</td>\n",
       "      <td>1.000000</td>\n",
       "      <td>47.500000</td>\n",
       "      <td>1.000000</td>\n",
       "      <td>1.000000</td>\n",
       "      <td>90.000000</td>\n",
       "    </tr>\n",
       "    <tr>\n",
       "      <th>max</th>\n",
       "      <td>890.000000</td>\n",
       "      <td>1.000000</td>\n",
       "      <td>3.000000</td>\n",
       "      <td>80.000000</td>\n",
       "      <td>3.000000</td>\n",
       "      <td>4.000000</td>\n",
       "      <td>512.329200</td>\n",
       "    </tr>\n",
       "  </tbody>\n",
       "</table>\n",
       "</div>"
      ],
      "text/plain": [
       "       PassengerId    Survived      Pclass         Age       SibSp  \\\n",
       "count   183.000000  183.000000  183.000000  183.000000  183.000000   \n",
       "mean    455.366120    0.672131    1.191257   35.674426    0.464481   \n",
       "std     247.052476    0.470725    0.515187   15.643866    0.644159   \n",
       "min       2.000000    0.000000    1.000000    0.920000    0.000000   \n",
       "25%     263.500000    0.000000    1.000000   24.000000    0.000000   \n",
       "50%     457.000000    1.000000    1.000000   36.000000    0.000000   \n",
       "75%     676.000000    1.000000    1.000000   47.500000    1.000000   \n",
       "max     890.000000    1.000000    3.000000   80.000000    3.000000   \n",
       "\n",
       "            Parch        Fare  \n",
       "count  183.000000  183.000000  \n",
       "mean     0.475410   78.682469  \n",
       "std      0.754617   76.347843  \n",
       "min      0.000000    0.000000  \n",
       "25%      0.000000   29.700000  \n",
       "50%      0.000000   57.000000  \n",
       "75%      1.000000   90.000000  \n",
       "max      4.000000  512.329200  "
      ]
     },
     "execution_count": 11,
     "metadata": {},
     "output_type": "execute_result"
    }
   ],
   "source": [
    "# Summarizing the data\n",
    "train.describe()"
   ]
  },
  {
   "cell_type": "code",
   "execution_count": 12,
   "metadata": {
    "execution": {
     "iopub.execute_input": "2021-06-11T17:39:50.819666Z",
     "iopub.status.busy": "2021-06-11T17:39:50.818972Z",
     "iopub.status.idle": "2021-06-11T17:39:50.824325Z",
     "shell.execute_reply": "2021-06-11T17:39:50.823686Z",
     "shell.execute_reply.started": "2021-06-11T17:11:37.853413Z"
    },
    "papermill": {
     "duration": 0.047217,
     "end_time": "2021-06-11T17:39:50.824480",
     "exception": false,
     "start_time": "2021-06-11T17:39:50.777263",
     "status": "completed"
    },
    "tags": []
   },
   "outputs": [
    {
     "data": {
      "text/plain": [
       "(183, 12)"
      ]
     },
     "execution_count": 12,
     "metadata": {},
     "output_type": "execute_result"
    }
   ],
   "source": [
    "# Dimension of the dataset after removal of null values:-\n",
    "train.shape"
   ]
  },
  {
   "cell_type": "markdown",
   "metadata": {
    "papermill": {
     "duration": 0.038924,
     "end_time": "2021-06-11T17:39:50.903125",
     "exception": false,
     "start_time": "2021-06-11T17:39:50.864201",
     "status": "completed"
    },
    "tags": []
   },
   "source": [
    "Now, the no. of Rows in Dataset is 183 and No. of Columns in Dataset is 12."
   ]
  },
  {
   "cell_type": "code",
   "execution_count": 13,
   "metadata": {
    "execution": {
     "iopub.execute_input": "2021-06-11T17:39:50.986783Z",
     "iopub.status.busy": "2021-06-11T17:39:50.986114Z",
     "iopub.status.idle": "2021-06-11T17:39:51.489448Z",
     "shell.execute_reply": "2021-06-11T17:39:51.489968Z",
     "shell.execute_reply.started": "2021-06-11T17:14:22.536283Z"
    },
    "papermill": {
     "duration": 0.547691,
     "end_time": "2021-06-11T17:39:51.490144",
     "exception": false,
     "start_time": "2021-06-11T17:39:50.942453",
     "status": "completed"
    },
    "tags": []
   },
   "outputs": [
    {
     "data": {
      "image/png": "[encoded data removed]",
      "text/plain": [
       "<Figure size 720x576 with 2 Axes>"
      ]
     },
     "metadata": {
      "needs_background": "light"
     },
     "output_type": "display_data"
    }
   ],
   "source": [
    "# Finding correlation:-\n",
    "train_corr = train.corr()\n",
    "plt.figure(figsize=(10,8))\n",
    "sns.heatmap(train_corr,annot = True);"
   ]
  },
  {
   "cell_type": "code",
   "execution_count": 14,
   "metadata": {
    "execution": {
     "iopub.execute_input": "2021-06-11T17:39:51.579391Z",
     "iopub.status.busy": "2021-06-11T17:39:51.578684Z",
     "iopub.status.idle": "2021-06-11T17:39:51.581797Z",
     "shell.execute_reply": "2021-06-11T17:39:51.582260Z",
     "shell.execute_reply.started": "2021-06-11T17:15:26.700426Z"
    },
    "papermill": {
     "duration": 0.051243,
     "end_time": "2021-06-11T17:39:51.582436",
     "exception": false,
     "start_time": "2021-06-11T17:39:51.531193",
     "status": "completed"
    },
    "tags": []
   },
   "outputs": [
    {
     "data": {
      "text/plain": [
       "male      95\n",
       "female    88\n",
       "Name: Sex, dtype: int64"
      ]
     },
     "execution_count": 14,
     "metadata": {},
     "output_type": "execute_result"
    }
   ],
   "source": [
    "# Total male and female present on the ship\n",
    "p = train.Sex.value_counts()\n",
    "p"
   ]
  },
  {
   "cell_type": "code",
   "execution_count": 15,
   "metadata": {
    "execution": {
     "iopub.execute_input": "2021-06-11T17:39:51.668379Z",
     "iopub.status.busy": "2021-06-11T17:39:51.667734Z",
     "iopub.status.idle": "2021-06-11T17:39:51.773534Z",
     "shell.execute_reply": "2021-06-11T17:39:51.774073Z",
     "shell.execute_reply.started": "2021-06-11T17:16:13.864475Z"
    },
    "papermill": {
     "duration": 0.150398,
     "end_time": "2021-06-11T17:39:51.774258",
     "exception": false,
     "start_time": "2021-06-11T17:39:51.623860",
     "status": "completed"
    },
    "tags": []
   },
   "outputs": [
    {
     "data": {
      "image/png": "[encoded data removed]",
      "text/plain": [
       "<Figure size 432x288 with 1 Axes>"
      ]
     },
     "metadata": {},
     "output_type": "display_data"
    }
   ],
   "source": [
    "p.plot.pie();"
   ]
  },
  {
   "cell_type": "code",
   "execution_count": 16,
   "metadata": {
    "execution": {
     "iopub.execute_input": "2021-06-11T17:39:51.861820Z",
     "iopub.status.busy": "2021-06-11T17:39:51.861093Z",
     "iopub.status.idle": "2021-06-11T17:39:51.867914Z",
     "shell.execute_reply": "2021-06-11T17:39:51.868412Z",
     "shell.execute_reply.started": "2021-06-11T17:17:01.722276Z"
    },
    "papermill": {
     "duration": 0.05237,
     "end_time": "2021-06-11T17:39:51.868590",
     "exception": false,
     "start_time": "2021-06-11T17:39:51.816220",
     "status": "completed"
    },
    "tags": []
   },
   "outputs": [
    {
     "data": {
      "text/plain": [
       "1    123\n",
       "0     60\n",
       "Name: Survived, dtype: int64"
      ]
     },
     "execution_count": 16,
     "metadata": {},
     "output_type": "execute_result"
    }
   ],
   "source": [
    "# How many passengers survived and how many dies.\n",
    "survive = train.Survived.value_counts()\n",
    "survive"
   ]
  },
  {
   "cell_type": "code",
   "execution_count": 17,
   "metadata": {
    "execution": {
     "iopub.execute_input": "2021-06-11T17:39:51.957298Z",
     "iopub.status.busy": "2021-06-11T17:39:51.956590Z",
     "iopub.status.idle": "2021-06-11T17:39:52.036090Z",
     "shell.execute_reply": "2021-06-11T17:39:52.036580Z",
     "shell.execute_reply.started": "2021-06-11T17:17:10.093565Z"
    },
    "papermill": {
     "duration": 0.124858,
     "end_time": "2021-06-11T17:39:52.036788",
     "exception": false,
     "start_time": "2021-06-11T17:39:51.911930",
     "status": "completed"
    },
    "tags": []
   },
   "outputs": [
    {
     "data": {
      "image/png": "[encoded data removed]",
      "text/plain": [
       "<Figure size 432x288 with 1 Axes>"
      ]
     },
     "metadata": {},
     "output_type": "display_data"
    }
   ],
   "source": [
    "survive.plot.pie();"
   ]
  },
  {
   "cell_type": "code",
   "execution_count": 18,
   "metadata": {
    "execution": {
     "iopub.execute_input": "2021-06-11T17:39:52.126786Z",
     "iopub.status.busy": "2021-06-11T17:39:52.126051Z",
     "iopub.status.idle": "2021-06-11T17:39:52.410727Z",
     "shell.execute_reply": "2021-06-11T17:39:52.411182Z",
     "shell.execute_reply.started": "2021-06-11T17:19:11.594055Z"
    },
    "papermill": {
     "duration": 0.331516,
     "end_time": "2021-06-11T17:39:52.411352",
     "exception": false,
     "start_time": "2021-06-11T17:39:52.079836",
     "status": "completed"
    },
    "tags": []
   },
   "outputs": [
    {
     "data": {
      "image/png": "[encoded data removed]",
      "text/plain": [
       "<Figure size 432x288 with 1 Axes>"
      ]
     },
     "metadata": {
      "needs_background": "light"
     },
     "output_type": "display_data"
    }
   ],
   "source": [
    "# Gender that survives the most\n",
    "g_survive = pd.crosstab(index = train['Survived'],columns = train['Sex'])\n",
    "g_survive.plot.bar();"
   ]
  },
  {
   "cell_type": "code",
   "execution_count": 19,
   "metadata": {
    "execution": {
     "iopub.execute_input": "2021-06-11T17:39:52.501777Z",
     "iopub.status.busy": "2021-06-11T17:39:52.501080Z",
     "iopub.status.idle": "2021-06-11T17:39:52.916518Z",
     "shell.execute_reply": "2021-06-11T17:39:52.917001Z",
     "shell.execute_reply.started": "2021-06-11T17:20:05.560671Z"
    },
    "papermill": {
     "duration": 0.462371,
     "end_time": "2021-06-11T17:39:52.917177",
     "exception": false,
     "start_time": "2021-06-11T17:39:52.454806",
     "status": "completed"
    },
    "tags": []
   },
   "outputs": [
    {
     "data": {
      "image/png": "[encoded data removed]",
      "text/plain": [
       "<Figure size 432x288 with 1 Axes>"
      ]
     },
     "metadata": {
      "needs_background": "light"
     },
     "output_type": "display_data"
    },
    {
     "data": {
      "image/png": "[encoded data removed]",
      "text/plain": [
       "<Figure size 432x288 with 1 Axes>"
      ]
     },
     "metadata": {
      "needs_background": "light"
     },
     "output_type": "display_data"
    }
   ],
   "source": [
    "# AGE that survives the most\n",
    "agesurvives = pd.crosstab(index = train['Age'],columns = train['Survived'])\n",
    "agesurvives.plot.line();\n",
    "agesurvives.plot.hist();"
   ]
  },
  {
   "cell_type": "code",
   "execution_count": 20,
   "metadata": {
    "execution": {
     "iopub.execute_input": "2021-06-11T17:39:53.012069Z",
     "iopub.status.busy": "2021-06-11T17:39:53.011318Z",
     "iopub.status.idle": "2021-06-11T17:39:53.180781Z",
     "shell.execute_reply": "2021-06-11T17:39:53.181290Z",
     "shell.execute_reply.started": "2021-06-11T17:20:13.728231Z"
    },
    "papermill": {
     "duration": 0.218558,
     "end_time": "2021-06-11T17:39:53.181488",
     "exception": false,
     "start_time": "2021-06-11T17:39:52.962930",
     "status": "completed"
    },
    "tags": []
   },
   "outputs": [
    {
     "data": {
      "image/png": "[encoded data removed]",
      "text/plain": [
       "<Figure size 432x288 with 1 Axes>"
      ]
     },
     "metadata": {
      "needs_background": "light"
     },
     "output_type": "display_data"
    }
   ],
   "source": [
    "# Embarked that survives the most\n",
    "embark = pd.crosstab(index = train['Embarked'],columns = train['Survived'])\n",
    "embark.plot.bar();"
   ]
  },
  {
   "cell_type": "code",
   "execution_count": 21,
   "metadata": {
    "execution": {
     "iopub.execute_input": "2021-06-11T17:39:53.281720Z",
     "iopub.status.busy": "2021-06-11T17:39:53.281034Z",
     "iopub.status.idle": "2021-06-11T17:39:53.443004Z",
     "shell.execute_reply": "2021-06-11T17:39:53.443477Z",
     "shell.execute_reply.started": "2021-06-11T17:20:22.388144Z"
    },
    "papermill": {
     "duration": 0.215516,
     "end_time": "2021-06-11T17:39:53.443666",
     "exception": false,
     "start_time": "2021-06-11T17:39:53.228150",
     "status": "completed"
    },
    "tags": []
   },
   "outputs": [
    {
     "data": {
      "image/png": "[encoded data removed]",
      "text/plain": [
       "<Figure size 432x288 with 1 Axes>"
      ]
     },
     "metadata": {
      "needs_background": "light"
     },
     "output_type": "display_data"
    }
   ],
   "source": [
    "# Gender with embark that survives the most\n",
    "embark_gen = pd.crosstab(index = train['Embarked'],columns = train['Sex'])\n",
    "embark_gen.plot.bar();"
   ]
  },
  {
   "cell_type": "code",
   "execution_count": 22,
   "metadata": {
    "execution": {
     "iopub.execute_input": "2021-06-11T17:39:53.541789Z",
     "iopub.status.busy": "2021-06-11T17:39:53.541058Z",
     "iopub.status.idle": "2021-06-11T17:39:53.550190Z",
     "shell.execute_reply": "2021-06-11T17:39:53.550666Z",
     "shell.execute_reply.started": "2021-06-11T17:20:51.864167Z"
    },
    "papermill": {
     "duration": 0.060503,
     "end_time": "2021-06-11T17:39:53.550916",
     "exception": false,
     "start_time": "2021-06-11T17:39:53.490413",
     "status": "completed"
    },
    "tags": []
   },
   "outputs": [],
   "source": [
    "train.replace(('male', 'female'), (1, 0), inplace=True)\n",
    "test.replace(('male', 'female'), (1, 0), inplace=True)"
   ]
  },
  {
   "cell_type": "code",
   "execution_count": 23,
   "metadata": {
    "execution": {
     "iopub.execute_input": "2021-06-11T17:39:53.649186Z",
     "iopub.status.busy": "2021-06-11T17:39:53.648507Z",
     "iopub.status.idle": "2021-06-11T17:39:53.658424Z",
     "shell.execute_reply": "2021-06-11T17:39:53.658923Z",
     "shell.execute_reply.started": "2021-06-11T17:21:02.804016Z"
    },
    "papermill": {
     "duration": 0.061519,
     "end_time": "2021-06-11T17:39:53.659121",
     "exception": false,
     "start_time": "2021-06-11T17:39:53.597602",
     "status": "completed"
    },
    "tags": []
   },
   "outputs": [],
   "source": [
    "# Getting Features\n",
    "features = ['Sex','Pclass','SibSp','Parch','Embarked']\n",
    "x = pd.get_dummies(train[features])\n",
    "\n",
    "# Predicting value\n",
    "y = train['Survived']"
   ]
  },
  {
   "cell_type": "code",
   "execution_count": 24,
   "metadata": {
    "execution": {
     "iopub.execute_input": "2021-06-11T17:39:53.756038Z",
     "iopub.status.busy": "2021-06-11T17:39:53.755333Z",
     "iopub.status.idle": "2021-06-11T17:39:53.973152Z",
     "shell.execute_reply": "2021-06-11T17:39:53.973644Z",
     "shell.execute_reply.started": "2021-06-11T17:21:10.124693Z"
    },
    "papermill": {
     "duration": 0.267667,
     "end_time": "2021-06-11T17:39:53.973904",
     "exception": false,
     "start_time": "2021-06-11T17:39:53.706237",
     "status": "completed"
    },
    "tags": []
   },
   "outputs": [],
   "source": [
    "from sklearn.model_selection import train_test_split\n",
    "x_train, x_test, y_train, y_test = train_test_split(x,y,test_size = 1/8, random_state = 52)"
   ]
  },
  {
   "cell_type": "code",
   "execution_count": 25,
   "metadata": {
    "execution": {
     "iopub.execute_input": "2021-06-11T17:39:54.070833Z",
     "iopub.status.busy": "2021-06-11T17:39:54.070190Z",
     "iopub.status.idle": "2021-06-11T17:39:54.075107Z",
     "shell.execute_reply": "2021-06-11T17:39:54.075585Z",
     "shell.execute_reply.started": "2021-06-11T17:21:15.278941Z"
    },
    "papermill": {
     "duration": 0.055022,
     "end_time": "2021-06-11T17:39:54.075807",
     "exception": false,
     "start_time": "2021-06-11T17:39:54.020785",
     "status": "completed"
    },
    "tags": []
   },
   "outputs": [],
   "source": [
    "test_x = test[features]"
   ]
  },
  {
   "cell_type": "code",
   "execution_count": 26,
   "metadata": {
    "execution": {
     "iopub.execute_input": "2021-06-11T17:39:54.172621Z",
     "iopub.status.busy": "2021-06-11T17:39:54.171972Z",
     "iopub.status.idle": "2021-06-11T17:39:54.186803Z",
     "shell.execute_reply": "2021-06-11T17:39:54.187306Z",
     "shell.execute_reply.started": "2021-06-11T17:21:21.360729Z"
    },
    "papermill": {
     "duration": 0.064609,
     "end_time": "2021-06-11T17:39:54.187499",
     "exception": false,
     "start_time": "2021-06-11T17:39:54.122890",
     "status": "completed"
    },
    "tags": []
   },
   "outputs": [],
   "source": [
    "from sklearn.preprocessing import StandardScaler\n",
    "scale = StandardScaler()\n",
    "x_train = scale.fit_transform(x_train)\n",
    "x_test = scale.fit_transform(x_test)"
   ]
  },
  {
   "cell_type": "markdown",
   "metadata": {
    "papermill": {
     "duration": 0.046498,
     "end_time": "2021-06-11T17:39:54.281048",
     "exception": false,
     "start_time": "2021-06-11T17:39:54.234550",
     "status": "completed"
    },
    "tags": []
   },
   "source": [
    "# Data Modelling:-"
   ]
  },
  {
   "cell_type": "markdown",
   "metadata": {
    "papermill": {
     "duration": 0.04655,
     "end_time": "2021-06-11T17:39:54.374580",
     "exception": false,
     "start_time": "2021-06-11T17:39:54.328030",
     "status": "completed"
    },
    "tags": []
   },
   "source": [
    "***1. Logistic Regression:-***"
   ]
  },
  {
   "cell_type": "code",
   "execution_count": 27,
   "metadata": {
    "execution": {
     "iopub.execute_input": "2021-06-11T17:39:54.472219Z",
     "iopub.status.busy": "2021-06-11T17:39:54.471532Z",
     "iopub.status.idle": "2021-06-11T17:39:54.592058Z",
     "shell.execute_reply": "2021-06-11T17:39:54.591394Z",
     "shell.execute_reply.started": "2021-06-11T17:22:34.400836Z"
    },
    "papermill": {
     "duration": 0.170577,
     "end_time": "2021-06-11T17:39:54.592208",
     "exception": false,
     "start_time": "2021-06-11T17:39:54.421631",
     "status": "completed"
    },
    "tags": []
   },
   "outputs": [
    {
     "name": "stdout",
     "output_type": "stream",
     "text": [
      "Accuracy of Logistic Regression model :  0.9130434782608695\n"
     ]
    }
   ],
   "source": [
    "#import Library for Accuracy Score\n",
    "from sklearn.metrics import accuracy_score\n",
    "\n",
    "#import Library for Logistic Regression\n",
    "from sklearn.linear_model import LogisticRegression\n",
    "\n",
    "#Initialize the Logistic Regression Classifier\n",
    "logisreg = LogisticRegression()\n",
    "\n",
    "#Train the model using Training Dataset\n",
    "logisreg.fit(x_train,y_train)\n",
    "\n",
    "# Prediction using test data\n",
    "y_pred = logisreg.predict(x_test)\n",
    "\n",
    "# Calculate Model accuracy by comparing y_test and y_pred\n",
    "acc_logisreg = accuracy_score(y_test, y_pred)\n",
    "print( 'Accuracy of Logistic Regression model : ', acc_logisreg )"
   ]
  },
  {
   "cell_type": "markdown",
   "metadata": {
    "papermill": {
     "duration": 0.046544,
     "end_time": "2021-06-11T17:39:54.687558",
     "exception": false,
     "start_time": "2021-06-11T17:39:54.641014",
     "status": "completed"
    },
    "tags": []
   },
   "source": [
    "***2. Linear DIscriminent Analysis:-***"
   ]
  },
  {
   "cell_type": "code",
   "execution_count": 28,
   "metadata": {
    "execution": {
     "iopub.execute_input": "2021-06-11T17:39:54.789094Z",
     "iopub.status.busy": "2021-06-11T17:39:54.788150Z",
     "iopub.status.idle": "2021-06-11T17:39:54.817980Z",
     "shell.execute_reply": "2021-06-11T17:39:54.818543Z",
     "shell.execute_reply.started": "2021-06-11T17:22:50.064148Z"
    },
    "papermill": {
     "duration": 0.083365,
     "end_time": "2021-06-11T17:39:54.818746",
     "exception": false,
     "start_time": "2021-06-11T17:39:54.735381",
     "status": "completed"
    },
    "tags": []
   },
   "outputs": [
    {
     "name": "stdout",
     "output_type": "stream",
     "text": [
      "Accuracy of Linear Discriminant Analysis Classifier:  0.8695652173913043\n"
     ]
    }
   ],
   "source": [
    "#Import Library for Linear Discriminant Analysis\n",
    "from sklearn.discriminant_analysis import LinearDiscriminantAnalysis\n",
    "from sklearn.metrics import accuracy_score\n",
    "\n",
    "\n",
    "#Initialize the Linear Discriminant Analysis Classifier\n",
    "lda = LinearDiscriminantAnalysis()\n",
    "\n",
    "#Train the model using Training Dataset\n",
    "lda.fit(x_train,y_train)\n",
    "\n",
    "# Prediction using test data\n",
    "lda_pred = lda.predict(x_test)\n",
    "\n",
    "# Calculate Model accuracy by comparing y_test and lda_pred\n",
    "acc_lda = accuracy_score(y_test, lda_pred)\n",
    "print( 'Accuracy of Linear Discriminant Analysis Classifier: ', acc_lda )"
   ]
  },
  {
   "cell_type": "markdown",
   "metadata": {
    "papermill": {
     "duration": 0.046872,
     "end_time": "2021-06-11T17:39:54.912889",
     "exception": false,
     "start_time": "2021-06-11T17:39:54.866017",
     "status": "completed"
    },
    "tags": []
   },
   "source": [
    "***3. Gaussian Naive Bayes:-***"
   ]
  },
  {
   "cell_type": "code",
   "execution_count": 29,
   "metadata": {
    "execution": {
     "iopub.execute_input": "2021-06-11T17:39:55.014502Z",
     "iopub.status.busy": "2021-06-11T17:39:55.013377Z",
     "iopub.status.idle": "2021-06-11T17:39:55.025225Z",
     "shell.execute_reply": "2021-06-11T17:39:55.025976Z",
     "shell.execute_reply.started": "2021-06-11T17:23:06.832594Z"
    },
    "papermill": {
     "duration": 0.0663,
     "end_time": "2021-06-11T17:39:55.026237",
     "exception": false,
     "start_time": "2021-06-11T17:39:54.959937",
     "status": "completed"
    },
    "tags": []
   },
   "outputs": [
    {
     "name": "stdout",
     "output_type": "stream",
     "text": [
      "Accuracy of Gaussian Naive Bayes :  0.8260869565217391\n"
     ]
    }
   ],
   "source": [
    "#Import Library for Gaussian Naive Bayes\n",
    "from sklearn.naive_bayes import GaussianNB\n",
    "\n",
    "#Initialize the Gaussian Naive Bayes Classifier\n",
    "gnb = GaussianNB()\n",
    "\n",
    "#Train the model using Training Dataset\n",
    "gnb.fit(x_train,y_train)\n",
    "\n",
    "# Prediction using test data\n",
    "gnb_pred = gnb.predict(x_test)\n",
    "\n",
    "# Calculate Model accuracy by comparing y_test and gnb_pred\n",
    "acc_ganb = accuracy_score(y_test, gnb_pred)\n",
    "print( 'Accuracy of Gaussian Naive Bayes : ', acc_ganb )"
   ]
  },
  {
   "cell_type": "markdown",
   "metadata": {
    "papermill": {
     "duration": 0.048217,
     "end_time": "2021-06-11T17:39:55.123577",
     "exception": false,
     "start_time": "2021-06-11T17:39:55.075360",
     "status": "completed"
    },
    "tags": []
   },
   "source": [
    "***4. Decision Tree Classifier:-***\n"
   ]
  },
  {
   "cell_type": "code",
   "execution_count": 30,
   "metadata": {
    "execution": {
     "iopub.execute_input": "2021-06-11T17:39:55.227107Z",
     "iopub.status.busy": "2021-06-11T17:39:55.226363Z",
     "iopub.status.idle": "2021-06-11T17:39:55.351262Z",
     "shell.execute_reply": "2021-06-11T17:39:55.350712Z",
     "shell.execute_reply.started": "2021-06-11T17:23:19.342340Z"
    },
    "papermill": {
     "duration": 0.179043,
     "end_time": "2021-06-11T17:39:55.351411",
     "exception": false,
     "start_time": "2021-06-11T17:39:55.172368",
     "status": "completed"
    },
    "tags": []
   },
   "outputs": [
    {
     "name": "stdout",
     "output_type": "stream",
     "text": [
      "Accuracy of  Decision Tree Classifier :  0.7391304347826086\n"
     ]
    }
   ],
   "source": [
    "#Import Library for Decision Tree Classifier\n",
    "from sklearn.tree import DecisionTreeClassifier\n",
    "\n",
    "#Initialize the Decision Tree Classifier\n",
    "dtc = DecisionTreeClassifier()\n",
    "\n",
    "#Train the model using Training Dataset\n",
    "dtc.fit(x_train,y_train)\n",
    "\n",
    "# Prediction using test data\n",
    "dtc_pred = dtc.predict(x_test)\n",
    "\n",
    "# Calculate Model accuracy by comparing y_test and dtc_pred\n",
    "acc_dtree = accuracy_score(y_test, dtc_pred)\n",
    "print( 'Accuracy of  Decision Tree Classifier : ', acc_dtree )"
   ]
  },
  {
   "cell_type": "markdown",
   "metadata": {
    "papermill": {
     "duration": 0.047691,
     "end_time": "2021-06-11T17:39:55.448394",
     "exception": false,
     "start_time": "2021-06-11T17:39:55.400703",
     "status": "completed"
    },
    "tags": []
   },
   "source": [
    "***5. Random Forest Classifier:-***"
   ]
  },
  {
   "cell_type": "code",
   "execution_count": 31,
   "metadata": {
    "execution": {
     "iopub.execute_input": "2021-06-11T17:39:55.551164Z",
     "iopub.status.busy": "2021-06-11T17:39:55.550434Z",
     "iopub.status.idle": "2021-06-11T17:39:55.770919Z",
     "shell.execute_reply": "2021-06-11T17:39:55.769609Z",
     "shell.execute_reply.started": "2021-06-11T17:23:32.046772Z"
    },
    "papermill": {
     "duration": 0.274815,
     "end_time": "2021-06-11T17:39:55.771181",
     "exception": false,
     "start_time": "2021-06-11T17:39:55.496366",
     "status": "completed"
    },
    "tags": []
   },
   "outputs": [
    {
     "name": "stdout",
     "output_type": "stream",
     "text": [
      "Accuracy of  Random Forest :  0.6956521739130435\n"
     ]
    }
   ],
   "source": [
    "#Import Library for Random Forest\n",
    "from sklearn.ensemble import RandomForestClassifier\n",
    "\n",
    "#Initialize the Random Forest\n",
    "rfc = RandomForestClassifier()\n",
    "\n",
    "#Train the model using Training Dataset\n",
    "rfc.fit(x_train,y_train)\n",
    "\n",
    "# Prediction using test data\n",
    "rfc_pred = rfc.predict(x_test)\n",
    "\n",
    "# Calculate Model accuracy by comparing y_test and rfc_pred\n",
    "acc_rf = accuracy_score(y_test, rfc_pred)\n",
    "print( 'Accuracy of  Random Forest : ', acc_rf )"
   ]
  },
  {
   "cell_type": "markdown",
   "metadata": {
    "papermill": {
     "duration": 0.047937,
     "end_time": "2021-06-11T17:39:55.868985",
     "exception": false,
     "start_time": "2021-06-11T17:39:55.821048",
     "status": "completed"
    },
    "tags": []
   },
   "source": [
    "***6. Support Vector Machine:-***"
   ]
  },
  {
   "cell_type": "code",
   "execution_count": 32,
   "metadata": {
    "execution": {
     "iopub.execute_input": "2021-06-11T17:39:55.974190Z",
     "iopub.status.busy": "2021-06-11T17:39:55.973505Z",
     "iopub.status.idle": "2021-06-11T17:39:55.980002Z",
     "shell.execute_reply": "2021-06-11T17:39:55.980515Z",
     "shell.execute_reply.started": "2021-06-11T17:25:32.229282Z"
    },
    "papermill": {
     "duration": 0.06181,
     "end_time": "2021-06-11T17:39:55.980704",
     "exception": false,
     "start_time": "2021-06-11T17:39:55.918894",
     "status": "completed"
    },
    "tags": []
   },
   "outputs": [
    {
     "name": "stdout",
     "output_type": "stream",
     "text": [
      "Accuracy of Support Vector Classifier:  0.782608695652174\n"
     ]
    }
   ],
   "source": [
    "#Import Library for Support Vector Machine\n",
    "from sklearn import svm\n",
    "\n",
    "#Initialize the Support Vector Classifier\n",
    "svmodel = svm.SVC()\n",
    "\n",
    "#Train the model using Training Dataset\n",
    "svmodel.fit(x_train,y_train)\n",
    "\n",
    "# Prediction using test data\n",
    "svm_pred = svmodel.predict(x_test)\n",
    "\n",
    "# Calculate Model accuracy by comparing y_test and svm_pred\n",
    "acc_svc = accuracy_score(y_test, svm_pred)\n",
    "print( 'Accuracy of Support Vector Classifier: ', acc_svc )"
   ]
  },
  {
   "cell_type": "markdown",
   "metadata": {
    "papermill": {
     "duration": 0.048337,
     "end_time": "2021-06-11T17:39:56.078396",
     "exception": false,
     "start_time": "2021-06-11T17:39:56.030059",
     "status": "completed"
    },
    "tags": []
   },
   "source": [
    "***7. KNN Classifier:-***"
   ]
  },
  {
   "cell_type": "code",
   "execution_count": 33,
   "metadata": {
    "execution": {
     "iopub.execute_input": "2021-06-11T17:39:56.185744Z",
     "iopub.status.busy": "2021-06-11T17:39:56.183521Z",
     "iopub.status.idle": "2021-06-11T17:39:56.189002Z",
     "shell.execute_reply": "2021-06-11T17:39:56.189482Z",
     "shell.execute_reply.started": "2021-06-11T17:26:08.218008Z"
    },
    "papermill": {
     "duration": 0.062397,
     "end_time": "2021-06-11T17:39:56.189651",
     "exception": false,
     "start_time": "2021-06-11T17:39:56.127254",
     "status": "completed"
    },
    "tags": []
   },
   "outputs": [
    {
     "name": "stdout",
     "output_type": "stream",
     "text": [
      "Accuracy of KNN Classifier:  0.7391304347826086\n"
     ]
    }
   ],
   "source": [
    "#Import Library for K Nearest Neighbour Model\n",
    "from sklearn.neighbors import KNeighborsClassifier\n",
    "\n",
    "#Initialize the K Nearest Neighbour Model with Default Value of K=5\n",
    "knnmodel = KNeighborsClassifier()\n",
    "\n",
    "#Train the model using Training Dataset\n",
    "knnmodel.fit(x_train,y_train)\n",
    "\n",
    "# Prediction using test data\n",
    "knn_pred = knnmodel.predict(x_test)\n",
    "\n",
    "# Calculate Model accuracy by comparing y_test and knn_pred\n",
    "acc_knn = accuracy_score(y_test, knn_pred)\n",
    "print( 'Accuracy of KNN Classifier: ', acc_knn )"
   ]
  },
  {
   "cell_type": "markdown",
   "metadata": {
    "papermill": {
     "duration": 0.048599,
     "end_time": "2021-06-11T17:39:56.286927",
     "exception": false,
     "start_time": "2021-06-11T17:39:56.238328",
     "status": "completed"
    },
    "tags": []
   },
   "source": [
    "# Model Selection:-"
   ]
  },
  {
   "cell_type": "code",
   "execution_count": 34,
   "metadata": {
    "execution": {
     "iopub.execute_input": "2021-06-11T17:39:56.397624Z",
     "iopub.status.busy": "2021-06-11T17:39:56.396652Z",
     "iopub.status.idle": "2021-06-11T17:39:56.401305Z",
     "shell.execute_reply": "2021-06-11T17:39:56.400803Z",
     "shell.execute_reply.started": "2021-06-11T17:26:37.165482Z"
    },
    "papermill": {
     "duration": 0.065599,
     "end_time": "2021-06-11T17:39:56.401452",
     "exception": false,
     "start_time": "2021-06-11T17:39:56.335853",
     "status": "completed"
    },
    "tags": []
   },
   "outputs": [
    {
     "data": {
      "text/html": [
       "<div>\n",
       "<style scoped>\n",
       "    .dataframe tbody tr th:only-of-type {\n",
       "        vertical-align: middle;\n",
       "    }\n",
       "\n",
       "    .dataframe tbody tr th {\n",
       "        vertical-align: top;\n",
       "    }\n",
       "\n",
       "    .dataframe thead th {\n",
       "        text-align: right;\n",
       "    }\n",
       "</style>\n",
       "<table border=\"1\" class=\"dataframe\">\n",
       "  <thead>\n",
       "    <tr style=\"text-align: right;\">\n",
       "      <th></th>\n",
       "      <th>Model</th>\n",
       "      <th>Score</th>\n",
       "    </tr>\n",
       "  </thead>\n",
       "  <tbody>\n",
       "    <tr>\n",
       "      <th>0</th>\n",
       "      <td>Logistic Regression</td>\n",
       "      <td>0.913043</td>\n",
       "    </tr>\n",
       "    <tr>\n",
       "      <th>1</th>\n",
       "      <td>Linear Discriminant Analysis</td>\n",
       "      <td>0.869565</td>\n",
       "    </tr>\n",
       "    <tr>\n",
       "      <th>2</th>\n",
       "      <td>Naive Bayes</td>\n",
       "      <td>0.826087</td>\n",
       "    </tr>\n",
       "    <tr>\n",
       "      <th>5</th>\n",
       "      <td>Support Vector Machines</td>\n",
       "      <td>0.782609</td>\n",
       "    </tr>\n",
       "    <tr>\n",
       "      <th>3</th>\n",
       "      <td>Decision Tree</td>\n",
       "      <td>0.739130</td>\n",
       "    </tr>\n",
       "    <tr>\n",
       "      <th>6</th>\n",
       "      <td>K - Nearest Neighbors</td>\n",
       "      <td>0.739130</td>\n",
       "    </tr>\n",
       "    <tr>\n",
       "      <th>4</th>\n",
       "      <td>Random Forest</td>\n",
       "      <td>0.695652</td>\n",
       "    </tr>\n",
       "  </tbody>\n",
       "</table>\n",
       "</div>"
      ],
      "text/plain": [
       "                          Model     Score\n",
       "0           Logistic Regression  0.913043\n",
       "1  Linear Discriminant Analysis  0.869565\n",
       "2                   Naive Bayes  0.826087\n",
       "5       Support Vector Machines  0.782609\n",
       "3                 Decision Tree  0.739130\n",
       "6         K - Nearest Neighbors  0.739130\n",
       "4                 Random Forest  0.695652"
      ]
     },
     "execution_count": 34,
     "metadata": {},
     "output_type": "execute_result"
    }
   ],
   "source": [
    "models = pd.DataFrame({\n",
    "    'Model': ['Logistic Regression','Linear Discriminant Analysis','Naive Bayes', 'Decision Tree', 'Random Forest', 'Support Vector Machines', \n",
    "              'K - Nearest Neighbors'],\n",
    "    'Score': [acc_logisreg, acc_lda, acc_ganb, acc_dtree, acc_rf, acc_svc, acc_knn]})\n",
    "\n",
    "models.sort_values(by='Score', ascending=False)"
   ]
  },
  {
   "cell_type": "markdown",
   "metadata": {
    "papermill": {
     "duration": 0.04974,
     "end_time": "2021-06-11T17:39:56.500981",
     "exception": false,
     "start_time": "2021-06-11T17:39:56.451241",
     "status": "completed"
    },
    "tags": []
   },
   "source": [
    "> Now, as we can see from above Logistic Regression has highest accuracy i.e. 91.3%. So, we will predict our data using Logistic Regression Model."
   ]
  },
  {
   "cell_type": "code",
   "execution_count": 35,
   "metadata": {
    "execution": {
     "iopub.execute_input": "2021-06-11T17:39:56.616550Z",
     "iopub.status.busy": "2021-06-11T17:39:56.615890Z",
     "iopub.status.idle": "2021-06-11T17:39:56.619020Z",
     "shell.execute_reply": "2021-06-11T17:39:56.618447Z",
     "shell.execute_reply.started": "2021-06-11T17:30:12.245622Z"
    },
    "papermill": {
     "duration": 0.068585,
     "end_time": "2021-06-11T17:39:56.619162",
     "exception": false,
     "start_time": "2021-06-11T17:39:56.550577",
     "status": "completed"
    },
    "tags": []
   },
   "outputs": [],
   "source": [
    "#Import Library for Accuracy Score\n",
    "from sklearn.metrics import accuracy_score\n",
    "\n",
    "#Import Library for Logistic Regression\n",
    "from sklearn.linear_model import LogisticRegression\n",
    "\n",
    "#Initialize the Logistic Regression Classifier\n",
    "logisreg = LogisticRegression()\n",
    "\n",
    "#Train the model using Training Dataset\n",
    "logisreg.fit(x_train,y_train)\n",
    "\n",
    "# Prediction using test data\n",
    "y_pred = logisreg.predict(pd.get_dummies(test_x))"
   ]
  },
  {
   "cell_type": "code",
   "execution_count": 36,
   "metadata": {
    "execution": {
     "iopub.execute_input": "2021-06-11T17:39:56.726295Z",
     "iopub.status.busy": "2021-06-11T17:39:56.725608Z",
     "iopub.status.idle": "2021-06-11T17:39:56.732691Z",
     "shell.execute_reply": "2021-06-11T17:39:56.732116Z",
     "shell.execute_reply.started": "2021-06-11T17:30:20.130100Z"
    },
    "papermill": {
     "duration": 0.062201,
     "end_time": "2021-06-11T17:39:56.732845",
     "exception": false,
     "start_time": "2021-06-11T17:39:56.670644",
     "status": "completed"
    },
    "tags": []
   },
   "outputs": [],
   "source": [
    "output = pd.DataFrame({'PassengerId': test.PassengerId, 'Survived': y_pred.astype(int)})\n",
    "output.to_csv('submission.csv', index=False)"
   ]
  }
 ],
 "metadata": {
  "kernelspec": {
   "display_name": "Python 3",
   "language": "python",
   "name": "python3"
  },
  "language_info": {
   "codemirror_mode": {
    "name": "ipython",
    "version": 3
   },
   "file_extension": ".py",
   "mimetype": "text/x-python",
   "name": "python",
   "nbconvert_exporter": "python",
   "pygments_lexer": "ipython3",
   "version": "3.8.3"
  },
  "papermill": {
   "default_parameters": {},
   "duration": 18.974574,
   "end_time": "2021-06-11T17:39:58.647087",
   "environment_variables": {},
   "exception": null,
   "input_path": "__notebook__.ipynb",
   "output_path": "__notebook__.ipynb",
   "parameters": {},
   "start_time": "2021-06-11T17:39:39.672513",
   "version": "2.3.3"
  }
 },
 "nbformat": 4,
 "nbformat_minor": 5
}
